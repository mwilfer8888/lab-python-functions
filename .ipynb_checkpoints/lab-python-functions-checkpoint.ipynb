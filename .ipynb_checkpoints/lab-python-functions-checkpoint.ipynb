{
 "cells": [
  {
   "cell_type": "markdown",
   "id": "25d7736c-ba17-4aff-b6bb-66eba20fbf4e",
   "metadata": {},
   "source": [
    "# Lab | Functions"
   ]
  },
  {
   "cell_type": "markdown",
   "id": "0c581062-8967-4d93-b06e-62833222f930",
   "metadata": {
    "tags": []
   },
   "source": [
    "## Exercise: Managing Customer Orders with Functions\n",
    "\n",
    "In the previous exercise, you improved the code for managing customer orders by using loops and flow control. Now, let's take it a step further and refactor the code by introducing functions.\n",
    "\n",
    "Follow the steps below to complete the exercise:\n",
    "\n",
    "1. Define a function named `initialize_inventory` that takes `products` as a parameter. Inside the function, implement the code for initializing the inventory dictionary using a loop and user input.\n",
    "\n",
    "2. Define a function named `get_customer_orders` that takes no parameters. Inside the function, implement the code for prompting the user to enter the product names using a loop. The function should return the `customer_orders` set.\n",
    "\n",
    "3. Define a function named `update_inventory` that takes `customer_orders` and `inventory` as parameters. Inside the function, implement the code for updating the inventory dictionary based on the customer orders.\n",
    "\n",
    "4. Define a function named `calculate_order_statistics` that takes `customer_orders` and `products` as parameters. Inside the function, implement the code for calculating the order statistics (total products ordered, and percentage of unique products ordered). The function should return these values.\n",
    "\n",
    "5. Define a function named `print_order_statistics` that takes `order_statistics` as a parameter. Inside the function, implement the code for printing the order statistics.\n",
    "\n",
    "6. Define a function named `print_updated_inventory` that takes `inventory` as a parameter. Inside the function, implement the code for printing the updated inventory.\n",
    "\n",
    "7. Call the functions in the appropriate sequence to execute the program and manage customer orders.\n",
    "\n",
    "Hints for functions:\n",
    "\n",
    "- Consider the input parameters required for each function and their return values.\n",
    "- Utilize function parameters and return values to transfer data between functions.\n",
    "- Test your functions individually to ensure they work correctly.\n",
    "\n",
    "\n"
   ]
  },
  {
   "cell_type": "code",
   "execution_count": 1,
   "id": "7e6ca677",
   "metadata": {},
   "outputs": [],
   "source": [
    "products = [\"tshirt\", \"mug\", \"hat\", \"book\", \"keychain\"]"
   ]
  },
  {
   "cell_type": "code",
   "execution_count": 2,
   "id": "70ac9ea1",
   "metadata": {},
   "outputs": [
    {
     "name": "stdout",
     "output_type": "stream",
     "text": [
      "Enter the quantity of tshirt that is in stock:435\n",
      "Enter the quantity of mug that is in stock:234\n",
      "Enter the quantity of hat that is in stock:264\n",
      "Enter the quantity of book that is in stock:456\n",
      "Enter the quantity of keychain that is in stock:43\n",
      "{'tshirt': 435, 'mug': 234, 'hat': 264, 'book': 456, 'keychain': 43}\n"
     ]
    }
   ],
   "source": [
    "def initialize_inventory(products):\n",
    "    inventory = {}\n",
    "    for product in products:\n",
    "        available = int(input(f\"Enter the quantity of {product} that is in stock:\"))\n",
    "        inventory[product] = available \n",
    "    return inventory\n",
    "\n",
    "initial_inventory = initialize_inventory(products)\n",
    "print(initial_inventory)"
   ]
  },
  {
   "cell_type": "code",
   "execution_count": 3,
   "id": "439a4872",
   "metadata": {},
   "outputs": [],
   "source": [
    "customer_orders = set()"
   ]
  },
  {
   "cell_type": "code",
   "execution_count": 4,
   "id": "d49e2dce",
   "metadata": {},
   "outputs": [
    {
     "name": "stdout",
     "output_type": "stream",
     "text": [
      "Enter the product you want to order:hat\n",
      "Would you like to add another product to your order, yes or no?yes\n",
      "Enter the product you want to order:mug\n",
      "Would you like to add another product to your order, yes or no?no\n",
      "{'mug', 'hat'}\n"
     ]
    }
   ],
   "source": [
    "def get_customer_orders():\n",
    "    while True:\n",
    "        desired_product = input(\"Enter the product you want to order:\")\n",
    "        customer_orders.add(desired_product)\n",
    "    \n",
    "        another_one = input(\"Would you like to add another product to your order, yes or no?\")\n",
    "        if another_one.lower() != \"yes\":\n",
    "            break\n",
    "    print(customer_orders)   \n",
    "    \n",
    "get_customer_orders()"
   ]
  },
  {
   "cell_type": "code",
   "execution_count": 5,
   "id": "78eb3089",
   "metadata": {},
   "outputs": [
    {
     "name": "stdout",
     "output_type": "stream",
     "text": [
      "Updated inventory: {'tshirt': 435, 'mug': 233, 'hat': 263, 'book': 456, 'keychain': 43}\n"
     ]
    },
    {
     "data": {
      "text/plain": [
       "{'tshirt': 435, 'mug': 233, 'hat': 263, 'book': 456, 'keychain': 43}"
      ]
     },
     "execution_count": 5,
     "metadata": {},
     "output_type": "execute_result"
    }
   ],
   "source": [
    "def update_inventory(customer_orders, initial_inventory):\n",
    "    for chosen_product in customer_orders: \n",
    "        if chosen_product in initial_inventory: \n",
    "            initial_inventory[chosen_product]-=1\n",
    "\n",
    "    print(\"Updated inventory:\", initial_inventory)\n",
    "    return initial_inventory \n",
    "\n",
    "update_inventory(customer_orders, initial_inventory)"
   ]
  },
  {
   "cell_type": "code",
   "execution_count": 6,
   "id": "1d7f38b3",
   "metadata": {},
   "outputs": [
    {
     "name": "stdout",
     "output_type": "stream",
     "text": [
      "Updated inventory: {'tshirt': 435, 'mug': 232, 'hat': 262, 'book': 456, 'keychain': 43}\n",
      "1428\n"
     ]
    }
   ],
   "source": [
    "updated_inventory = update_inventory(customer_orders, initial_inventory)\n",
    "\n",
    "total_products_available = sum([updated_inventory[key] for key in updated_inventory])\n",
    "ordered_products = len(customer_orders)\n",
    "unique_products_ordered = len(set(customer_orders))\n",
    "percentage_unique_products = (unique_products_ordered/ordered_products) * 100\n",
    "percentage_of_inventory = (ordered_products/total_products_available) * 100\n",
    "\n",
    "print(total_products_available)"
   ]
  },
  {
   "cell_type": "code",
   "execution_count": 7,
   "id": "cbbe6348",
   "metadata": {},
   "outputs": [],
   "source": [
    "def calculate_order_statistics(customer_orders,products):\n",
    "    ordered_products = len(customer_orders)\n",
    "    unique_products_ordered = len(set(customer_orders))\n",
    "    percentage_unique_products = (unique_products_ordered/ordered_products) * 100\n",
    "    percentage_of_inventory = (ordered_products/total_products_available) * 100\n",
    "\n",
    "    return ordered_products, percentage_unique_products, percentage_of_inventory\n",
    "    \n",
    "order_statistics = calculate_order_statistics(customer_orders,products)\n"
   ]
  },
  {
   "cell_type": "code",
   "execution_count": 8,
   "id": "2a843ef1",
   "metadata": {},
   "outputs": [
    {
     "name": "stdout",
     "output_type": "stream",
     "text": [
      "Order Statistics\n",
      "Total Product Quantity: 1428\n",
      "Total Ordered Products: 2\n",
      "Percentage of Unique Products: 100.0 %\n",
      "Percentage of Inventory Ordered: 0.1400560224089636 %\n"
     ]
    }
   ],
   "source": [
    "total_products_available = sum([updated_inventory[key] for key in updated_inventory])\n",
    "ordered_products = len(customer_orders)\n",
    "unique_products_ordered = len(set(customer_orders))\n",
    "percentage_unique_products = (unique_products_ordered/ordered_products) * 100\n",
    "percentage_of_inventory = (ordered_products/total_products_available) * 100\n",
    "\n",
    "\n",
    "def print_order_statistics(order_statistics):\n",
    "    print(\"Order Statistics\")\n",
    "    print(\"Total Product Quantity:\", total_products_available)\n",
    "    print(\"Total Ordered Products:\", ordered_products)\n",
    "    print(\"Percentage of Unique Products:\", percentage_unique_products,\"%\")\n",
    "    print(\"Percentage of Inventory Ordered:\", percentage_of_inventory,\"%\")\n",
    "    \n",
    "print_order_statistics(order_statistics)"
   ]
  },
  {
   "cell_type": "code",
   "execution_count": 9,
   "id": "8686aa0d",
   "metadata": {},
   "outputs": [
    {
     "name": "stdout",
     "output_type": "stream",
     "text": [
      "{'tshirt': 435, 'mug': 232, 'hat': 262, 'book': 456, 'keychain': 43}\n"
     ]
    }
   ],
   "source": [
    "def print_updated_inventory(updated_inventory):\n",
    "    print(updated_inventory)\n",
    "    \n",
    "print_updated_inventory(updated_inventory)"
   ]
  },
  {
   "cell_type": "code",
   "execution_count": 10,
   "id": "ce174add",
   "metadata": {},
   "outputs": [
    {
     "name": "stdout",
     "output_type": "stream",
     "text": [
      "Enter the quantity of tshirt that is in stock:23\n",
      "Enter the quantity of mug that is in stock:215\n",
      "Enter the quantity of hat that is in stock:321\n",
      "Enter the quantity of book that is in stock:33\n",
      "Enter the quantity of keychain that is in stock:64\n"
     ]
    },
    {
     "data": {
      "text/plain": [
       "{'tshirt': 23, 'mug': 215, 'hat': 321, 'book': 33, 'keychain': 64}"
      ]
     },
     "execution_count": 10,
     "metadata": {},
     "output_type": "execute_result"
    }
   ],
   "source": [
    "initialize_inventory(products)"
   ]
  },
  {
   "cell_type": "code",
   "execution_count": 11,
   "id": "8d9517d7",
   "metadata": {},
   "outputs": [
    {
     "name": "stdout",
     "output_type": "stream",
     "text": [
      "Enter the product you want to order:hat\n",
      "Would you like to add another product to your order, yes or no?yes\n",
      "Enter the product you want to order:mug\n",
      "Would you like to add another product to your order, yes or no?no\n",
      "{'mug', 'hat'}\n"
     ]
    }
   ],
   "source": [
    "get_customer_orders()"
   ]
  },
  {
   "cell_type": "code",
   "execution_count": 12,
   "id": "ad97968f",
   "metadata": {},
   "outputs": [
    {
     "name": "stdout",
     "output_type": "stream",
     "text": [
      "Updated inventory: {'tshirt': 435, 'mug': 231, 'hat': 261, 'book': 456, 'keychain': 43}\n"
     ]
    },
    {
     "data": {
      "text/plain": [
       "{'tshirt': 435, 'mug': 231, 'hat': 261, 'book': 456, 'keychain': 43}"
      ]
     },
     "execution_count": 12,
     "metadata": {},
     "output_type": "execute_result"
    }
   ],
   "source": [
    "update_inventory(customer_orders, initial_inventory)"
   ]
  },
  {
   "cell_type": "code",
   "execution_count": 13,
   "id": "6e922ef7",
   "metadata": {},
   "outputs": [
    {
     "data": {
      "text/plain": [
       "(2, 100.0, 0.1400560224089636)"
      ]
     },
     "execution_count": 13,
     "metadata": {},
     "output_type": "execute_result"
    }
   ],
   "source": [
    "calculate_order_statistics(customer_orders,products)"
   ]
  },
  {
   "cell_type": "code",
   "execution_count": 14,
   "id": "d890e8e0",
   "metadata": {},
   "outputs": [
    {
     "name": "stdout",
     "output_type": "stream",
     "text": [
      "Order Statistics\n",
      "Total Product Quantity: 1428\n",
      "Total Ordered Products: 2\n",
      "Percentage of Unique Products: 100.0 %\n",
      "Percentage of Inventory Ordered: 0.1400560224089636 %\n"
     ]
    }
   ],
   "source": [
    "print_order_statistics(order_statistics)"
   ]
  },
  {
   "cell_type": "code",
   "execution_count": 15,
   "id": "428d4088",
   "metadata": {},
   "outputs": [
    {
     "name": "stdout",
     "output_type": "stream",
     "text": [
      "{'tshirt': 435, 'mug': 231, 'hat': 261, 'book': 456, 'keychain': 43}\n"
     ]
    }
   ],
   "source": [
    "print_updated_inventory(updated_inventory)"
   ]
  },
  {
   "cell_type": "code",
   "execution_count": null,
   "id": "8026c24b",
   "metadata": {},
   "outputs": [],
   "source": []
  }
 ],
 "metadata": {
  "kernelspec": {
   "display_name": "Python 3 (ipykernel)",
   "language": "python",
   "name": "python3"
  },
  "language_info": {
   "codemirror_mode": {
    "name": "ipython",
    "version": 3
   },
   "file_extension": ".py",
   "mimetype": "text/x-python",
   "name": "python",
   "nbconvert_exporter": "python",
   "pygments_lexer": "ipython3",
   "version": "3.11.7"
  }
 },
 "nbformat": 4,
 "nbformat_minor": 5
}
